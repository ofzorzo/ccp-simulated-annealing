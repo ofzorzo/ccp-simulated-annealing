{
 "cells": [
  {
   "cell_type": "code",
   "execution_count": 1,
   "metadata": {},
   "outputs": [
    {
     "data": {
      "text/plain": [
       "(240, 12, [3.0, 3.0, 10.0, 8.0, 10.0, 6.0, 5.0, 1.0, 7.0, 10.0  …  10.0, 6.0, 9.0, 5.0, 5.0, 3.0, 8.0, 3.0, 5.0, 9.0], [75.0, 75.0, 75.0, 75.0, 75.0, 75.0, 75.0, 75.0, 75.0, 75.0, 75.0, 75.0], [125.0, 125.0, 125.0, 125.0, 125.0, 125.0, 125.0, 125.0, 125.0, 125.0, 125.0, 125.0], [0.0 51.895 … 39.466 2.449; 0.0 0.0 … 17.47 90.193; … ; 0.0 0.0 … 0.0 21.051; 0.0 0.0 … 0.0 0.0])"
      ]
     },
     "execution_count": 1,
     "metadata": {},
     "output_type": "execute_result"
    }
   ],
   "source": [
    "function createGraphFromFile(filename)\n",
    "\tf = open(filename)\n",
    "\tlines = readlines(f)\n",
    "\tfirstLine = split(lines[1])\n",
    "\tn = parse(Int64, firstLine[1]) #número de vértices\n",
    "\tg = parse(Int64, firstLine[2]) #número de grupos\n",
    "\tsecondLine = split(lines[2])\n",
    "    L = zeros(g) #limite inferior do grupo j\n",
    "    U = zeros(g) #limite superior do grupo j\n",
    "    for j=1:g\n",
    "    \tL[j] = parse(Float64, secondLine[j*2-1])\n",
    "    \tU[j] = parse(Float64, secondLine[j*2])\n",
    "    end\n",
    "    p = zeros(n) #peso do vértice i\n",
    "    thirdLine = split(lines[3])\n",
    "    for i=1:n\n",
    "    \tp[i] = parse(Float64, thirdLine[i])\n",
    "    end\n",
    "    numberOfLines = size(lines)[1]\n",
    "    A = zeros(n,n) #matriz de adjacência em que cada elemento representa o peso da aresta entre o vértice u e v\n",
    "    for lineIndex=4:numberOfLines\n",
    "    \tcurrentLine = split(lines[lineIndex])\n",
    "    \tu = parse(Int64, currentLine[1]) + 1\n",
    "        v = parse(Int64, currentLine[2]) + 1\n",
    "        A[u,v] = parse(Float64, currentLine[3])\n",
    "    end\n",
    "    return n, g, p, L, U, A\n",
    "end\n",
    "\n",
    "n, g, p, L, U, A = createGraphFromFile(\"D:/UFRGS/Quinto Semestre/Otimização Combinatória/Trabalho final/gbmv240_05.ins\")"
   ]
  },
  {
   "cell_type": "code",
   "execution_count": 2,
   "metadata": {},
   "outputs": [
    {
     "name": "stdout",
     "output_type": "stream",
     "text": [
      "GLPK Integer Optimizer, v4.52\r\n",
      "691452 rows, 694080 columns, 2076480 non-zeros\r\n",
      "694080 integer variables, all of which are binary\r\n",
      "Integer optimization begins...\r\n",
      "+348161: mip =     not found yet <=              +inf        (1; 0)\r\n",
      "+348492: mip =     not found yet <=  1.421355241e+006        (2; 0)\r\n",
      "Time used: 3112.3 secs.  Memory used: 569.6 Mb.\r\n",
      "|349000: obj =  1.421355241e+006  infeas = 3.685e-008 (5252)\r\n",
      "|349500: obj =  1.421355241e+006  infeas = 3.006e-008 (5226)\r\n",
      "|350000: obj =  1.421355241e+006  infeas = 1.056e-007 (4980)\r\n",
      "|350500: obj =  1.421355241e+006  infeas = 2.033e-008 (4547)\r\n",
      "|351000: obj =  1.421355241e+006  infeas = 2.980e-009 (4225)\r\n",
      "|351500: obj =  1.421355241e+006  infeas = 4.169e-009 (3875)\r\n",
      "|352000: obj =  1.421344113e+006  infeas = 4.143e-012 (3855)\r\n",
      "|352500: obj =  1.421327875e+006  infeas = 6.198e-009 (3696)\r\n",
      "|353000: obj =  1.421326431e+006  infeas = 5.994e-009 (3688)\r\n",
      "|353500: obj =  1.421326431e+006  infeas = 9.095e-008 (3583)\r\n",
      "|354000: obj =  1.421309589e+006  infeas = 5.978e-009 (3547)\r\n",
      "|354500: obj =  1.421257945e+006  infeas = 5.688e-009 (3423)\r\n",
      "|355000: obj =  1.421247280e+006  infeas = 5.062e-009 (3403)\r\n",
      "|355500: obj =  1.421166733e+006  infeas = 5.351e-011 (3281)\r\n",
      "|356000: obj =  1.420957170e+006  infeas = 7.800e-011 (3112)\r\n",
      "|356500: obj =  1.420670138e+006  infeas = 4.542e-010 (2881)\r\n",
      "|357000: obj =  1.420387009e+006  infeas = 2.219e-010 (2655)\r\n",
      "|357500: obj =  1.420049900e+006  infeas = 8.167e-010 (2372)\r\n",
      "|358000: obj =  1.419842302e+006  infeas = 7.072e-010 (2278)\r\n",
      "|358500: obj =  1.419580329e+006  infeas = 6.750e-010 (2067)\r\n",
      "|359000: obj =  1.419298542e+006  infeas = 9.545e-010 (1899)\r\n",
      "|359500: obj =  1.418777414e+006  infeas = 4.742e-009 (1658)\r\n",
      "|360000: obj =  1.417902776e+006  infeas = 3.375e-009 (1421)\r\n",
      "|360500: obj =  1.416390363e+006  infeas = 3.113e-009 (1065)\r\n",
      "|361000: obj =  1.415708787e+006  infeas = 1.855e-009 (793)\r\n",
      "|361500: obj =  1.414517110e+006  infeas = 6.618e-009 (633)\r\n",
      "|362000: obj =  1.413947964e+006  infeas = 1.686e-008 (574)\r\n",
      "|362500: obj =  1.413112166e+006  infeas = 1.005e-008 (428)\r\n",
      "|363000: obj =  1.413093442e+006  infeas = 1.276e-007 (424)\r\n",
      "|363500: obj =  1.413066032e+006  infeas = 2.352e-008 (422)\r\n",
      "|364000: obj =  1.413055491e+006  infeas = 4.283e-011 (422)\r\n",
      "|364500: obj =  1.413055040e+006  infeas = 1.160e-009 (421)\r\n",
      "|365000: obj =  1.413054623e+006  infeas = 1.423e-009 (421)\r\n",
      "|365500: obj =  1.413054063e+006  infeas = 2.598e-011 (421)\r\n",
      "|366000: obj =  1.413053880e+006  infeas = 2.160e-012 (421)\r\n",
      "|366500: obj =  1.413053799e+006  infeas = 2.425e-012 (421)\r\n",
      "|367000: obj =  1.413053753e+006  infeas = 6.795e-011 (421)\r\n",
      "|367500: obj =  1.413053705e+006  infeas = 5.573e-011 (420)\r\n",
      "|368000: obj =  1.413053615e+006  infeas = 0.000e+000 (420)\r\n",
      "|368500: obj =  1.413053462e+006  infeas = 2.018e-011 (420)\r\n",
      "|369000: obj =  1.413053260e+006  infeas = 3.465e-011 (420)\r\n",
      "|369500: obj =  1.413053192e+006  infeas = 2.439e-008 (420)\r\n",
      "|370000: obj =  1.413053156e+006  infeas = 7.582e-012 (420)\r\n",
      "|370500: obj =  1.413053109e+006  infeas = 0.000e+000 (420)\r\n",
      "|371000: obj =  1.413053083e+006  infeas = 0.000e+000 (420)\r\n",
      "|371500: obj =  1.413052994e+006  infeas = 0.000e+000 (420)\r\n",
      "|372000: obj =  1.413052949e+006  infeas = 5.584e-009 (420)\r\n",
      "|372500: obj =  1.413052927e+006  infeas = 2.680e-018 (420)\r\n",
      "|373000: obj =  1.413052916e+006  infeas = 0.000e+000 (420)\r\n",
      "|373500: obj =  1.413052699e+006  infeas = 4.884e-006 (419)\r\n",
      "|374000: obj =  1.413052699e+006  infeas = 2.298e-008 (419)\r\n",
      "|374500: obj =  1.413050643e+006  infeas = 4.905e-008 (414)\r\n",
      "|375000: obj =  1.413050643e+006  infeas = 1.394e-008 (414)\r\n",
      "|375500: obj =  1.413046964e+006  infeas = 1.815e-006 (414)\r\n",
      "|376000: obj =  1.413046969e+006  infeas = 1.115e-007 (414)\r\n",
      "|376500: obj =  1.413046969e+006  infeas = 6.236e-008 (413)\r\n",
      "|377000: obj =  1.413046969e+006  infeas = 1.604e-007 (413)\r\n",
      "|377500: obj =  1.413046655e+006  infeas = 1.771e-007 (404)\r\n",
      "|378000: obj =  1.412919973e+006  infeas = 1.460e-008 (358)\r\n",
      "|378500: obj =  1.412822996e+006  infeas = 3.684e-008 (294)\r\n",
      "|379000: obj =  1.412784455e+006  infeas = 4.116e-008 (290)\r\n",
      "|379417: obj =  1.412784455e+006  infeas = 1.831e-008 (290)\r\n",
      "+379417: mip =     not found yet <=  1.421355241e+006        (3; 0)\r\n",
      "Time used: 6565.6 secs.  Memory used: 570.3 Mb.\r\n",
      "+379417: mip =     not found yet <=  1.421355241e+006        (3; 0)\r\n",
      "TIME LIMIT EXCEEDED; SEARCH TERMINATED\r\n"
     ]
    },
    {
     "name": "stderr",
     "output_type": "stream",
     "text": [
      "\u001b[1m\u001b[33mWARNING: \u001b[39m\u001b[22m\u001b[33mNot solved to optimality, status: UserLimit\u001b[39m\n"
     ]
    },
    {
     "data": {
      "text/plain": [
       ":UserLimit"
      ]
     },
     "execution_count": 2,
     "metadata": {},
     "output_type": "execute_result"
    }
   ],
   "source": [
    "using JuMP\n",
    "using GLPKMathProgInterface\n",
    "m = Model(solver=GLPKSolverMIP(msg_lev=GLPK.MSG_ALL, tm_lim=3600000, out_frq=1))\n",
    "\n",
    "@variable(m, x[1:n, 1:g], Bin) #g é o número de grupos\n",
    "@variable(m, c[1:n, 1:n, 1:g], Bin) #g é o número de grupos\n",
    "@objective( m, Max, sum( c[i,k,j]*A[i,k] for i in 1:n for k in 1:n for j in 1:g ) )\n",
    "@constraints(m, begin\n",
    "[i in 1:n], sum(x[i,j] for j in 1:g)==1\n",
    "[j in 1:g], L[j]<=sum( x[i,j]*p[i] for i in 1:n )<=U[j]\n",
    "[i in 1:n, k in 1:n, j in 1:g], c[i,k,j]<=(x[i,j]+x[k,j])/2 # isso daqui garante que vou ter tanto c[1,2,j] quanto c[2,1,j], então não preciso me preocupar com qual vértice escolher pra i e qual pra k na função objetivo\n",
    "\n",
    "end)\n",
    "solve(m)"
   ]
  },
  {
   "cell_type": "code",
   "execution_count": 3,
   "metadata": {},
   "outputs": [
    {
     "data": {
      "text/plain": [
       "NaN"
      ]
     },
     "execution_count": 3,
     "metadata": {},
     "output_type": "execute_result"
    }
   ],
   "source": [
    "getobjectivevalue(m)"
   ]
  },
  {
   "cell_type": "code",
   "execution_count": null,
   "metadata": {},
   "outputs": [],
   "source": []
  }
 ],
 "metadata": {
  "kernelspec": {
   "display_name": "Julia 0.6.2",
   "language": "julia",
   "name": "julia-0.6"
  },
  "language_info": {
   "file_extension": ".jl",
   "mimetype": "application/julia",
   "name": "julia",
   "version": "0.6.2"
  }
 },
 "nbformat": 4,
 "nbformat_minor": 2
}
