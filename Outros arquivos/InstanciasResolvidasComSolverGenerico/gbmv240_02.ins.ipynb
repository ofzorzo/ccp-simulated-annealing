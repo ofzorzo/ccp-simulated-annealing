{
 "cells": [
  {
   "cell_type": "code",
   "execution_count": 1,
   "metadata": {},
   "outputs": [
    {
     "data": {
      "text/plain": [
       "(240, 12, [9.0, 1.0, 8.0, 8.0, 8.0, 8.0, 6.0, 9.0, 3.0, 1.0  …  8.0, 4.0, 5.0, 2.0, 4.0, 6.0, 3.0, 10.0, 2.0, 4.0], [75.0, 75.0, 75.0, 75.0, 75.0, 75.0, 75.0, 75.0, 75.0, 75.0, 75.0, 75.0], [125.0, 125.0, 125.0, 125.0, 125.0, 125.0, 125.0, 125.0, 125.0, 125.0, 125.0, 125.0], [0.0 17.154 … 63.107 69.454; 0.0 0.0 … 8.412 12.936; … ; 0.0 0.0 … 0.0 58.988; 0.0 0.0 … 0.0 0.0])"
      ]
     },
     "execution_count": 1,
     "metadata": {},
     "output_type": "execute_result"
    }
   ],
   "source": [
    "function createGraphFromFile(filename)\n",
    "\tf = open(filename)\n",
    "\tlines = readlines(f)\n",
    "\tfirstLine = split(lines[1])\n",
    "\tn = parse(Int64, firstLine[1]) #número de vértices\n",
    "\tg = parse(Int64, firstLine[2]) #número de grupos\n",
    "\tsecondLine = split(lines[2])\n",
    "    L = zeros(g) #limite inferior do grupo j\n",
    "    U = zeros(g) #limite superior do grupo j\n",
    "    for j=1:g\n",
    "    \tL[j] = parse(Float64, secondLine[j*2-1])\n",
    "    \tU[j] = parse(Float64, secondLine[j*2])\n",
    "    end\n",
    "    p = zeros(n) #peso do vértice i\n",
    "    thirdLine = split(lines[3])\n",
    "    for i=1:n\n",
    "    \tp[i] = parse(Float64, thirdLine[i])\n",
    "    end\n",
    "    numberOfLines = size(lines)[1]\n",
    "    A = zeros(n,n) #matriz de adjacência em que cada elemento representa o peso da aresta entre o vértice u e v\n",
    "    for lineIndex=4:numberOfLines\n",
    "    \tcurrentLine = split(lines[lineIndex])\n",
    "    \tu = parse(Int64, currentLine[1]) + 1\n",
    "        v = parse(Int64, currentLine[2]) + 1\n",
    "        A[u,v] = parse(Float64, currentLine[3])\n",
    "    end\n",
    "    return n, g, p, L, U, A\n",
    "end\n",
    "\n",
    "n, g, p, L, U, A = createGraphFromFile(\"D:/UFRGS/Quinto Semestre/Otimização Combinatória/Trabalho final/gbmv240_02.ins\")"
   ]
  },
  {
   "cell_type": "code",
   "execution_count": 2,
   "metadata": {},
   "outputs": [
    {
     "name": "stdout",
     "output_type": "stream",
     "text": [
      "GLPK Integer Optimizer, v4.52\r\n",
      "691452 rows, 694080 columns, 2076480 non-zeros\r\n",
      "694080 integer variables, all of which are binary\r\n",
      "Integer optimization begins...\r\n",
      "+347938: mip =     not found yet <=              +inf        (1; 0)\r\n",
      "|348500: obj =  1.436540466e+006  infeas = 2.184e-008 (0)\r\n",
      "|348769: obj =  1.436540466e+006  infeas = 1.151e-008 (0)\r\n",
      "+348769: mip =     not found yet <=  1.436540466e+006        (2; 0)\r\n",
      "Time used: 3224.8 secs.  Memory used: 569.6 Mb.\r\n",
      "|349500: obj =  1.436540466e+006  infeas = 1.429e-008 (5252)\r\n",
      "|350000: obj =  1.436540466e+006  infeas = 7.531e-009 (5176)\r\n",
      "|350500: obj =  1.436540466e+006  infeas = 6.293e-009 (4785)\r\n",
      "|351000: obj =  1.436540466e+006  infeas = 5.017e-008 (4484)\r\n",
      "|351500: obj =  1.436540466e+006  infeas = 6.864e-009 (4078)\r\n",
      "|352000: obj =  1.436528373e+006  infeas = 6.700e-008 (3828)\r\n",
      "|352500: obj =  1.436496987e+006  infeas = 5.979e-009 (3503)\r\n",
      "|353000: obj =  1.436333762e+006  infeas = 8.843e-011 (3265)\r\n",
      "|353500: obj =  1.436051736e+006  infeas = 2.387e-010 (3026)\r\n",
      "|354000: obj =  1.435854194e+006  infeas = 9.378e-010 (2814)\r\n",
      "|354500: obj =  1.435637570e+006  infeas = 1.899e-009 (2567)\r\n",
      "|355000: obj =  1.435229230e+006  infeas = 7.385e-010 (2247)\r\n",
      "|355500: obj =  1.434148250e+006  infeas = 1.686e-009 (1863)\r\n",
      "|356000: obj =  1.433569552e+006  infeas = 1.668e-009 (1626)\r\n",
      "|356500: obj =  1.433452786e+006  infeas = 1.739e-008 (1505)\r\n",
      "|357000: obj =  1.432689768e+006  infeas = 7.191e-008 (1325)\r\n",
      "|357500: obj =  1.432687116e+006  infeas = 7.440e-008 (1284)\r\n",
      "|358000: obj =  1.432577781e+006  infeas = 1.340e-008 (1187)\r\n",
      "|358500: obj =  1.432241689e+006  infeas = 1.437e-008 (1067)\r\n",
      "|359000: obj =  1.431669605e+006  infeas = 6.654e-009 (843)\r\n",
      "|359500: obj =  1.429671068e+006  infeas = 1.403e-008 (563)\r\n",
      "|360000: obj =  1.428427312e+006  infeas = 1.582e-007 (279)\r\n",
      "|360049: obj =  1.428426818e+006  infeas = 5.594e-009 (279)\r\n",
      "+360049: mip =     not found yet <=  1.436540466e+006        (3; 0)\r\n",
      "Time used: 6077.2 secs.  Memory used: 570.3 Mb.\r\n",
      "+360049: mip =     not found yet <=  1.436540466e+006        (3; 0)\r\n",
      "TIME LIMIT EXCEEDED; SEARCH TERMINATED\r\n"
     ]
    },
    {
     "name": "stderr",
     "output_type": "stream",
     "text": [
      "\u001b[1m\u001b[33mWARNING: \u001b[39m\u001b[22m\u001b[33mNot solved to optimality, status: UserLimit\u001b[39m\n"
     ]
    },
    {
     "data": {
      "text/plain": [
       ":UserLimit"
      ]
     },
     "execution_count": 2,
     "metadata": {},
     "output_type": "execute_result"
    }
   ],
   "source": [
    "using JuMP\n",
    "using GLPKMathProgInterface\n",
    "m = Model(solver=GLPKSolverMIP(msg_lev=GLPK.MSG_ALL, tm_lim=3600000, out_frq=1))\n",
    "\n",
    "@variable(m, x[1:n, 1:g], Bin) #g é o número de grupos\n",
    "@variable(m, c[1:n, 1:n, 1:g], Bin) #g é o número de grupos\n",
    "@objective( m, Max, sum( c[i,k,j]*A[i,k] for i in 1:n for k in 1:n for j in 1:g ) )\n",
    "@constraints(m, begin\n",
    "[i in 1:n], sum(x[i,j] for j in 1:g)==1\n",
    "[j in 1:g], L[j]<=sum( x[i,j]*p[i] for i in 1:n )<=U[j]\n",
    "[i in 1:n, k in 1:n, j in 1:g], c[i,k,j]<=(x[i,j]+x[k,j])/2 # isso daqui garante que vou ter tanto c[1,2,j] quanto c[2,1,j], então não preciso me preocupar com qual vértice escolher pra i e qual pra k na função objetivo\n",
    "\n",
    "end)\n",
    "solve(m)"
   ]
  },
  {
   "cell_type": "code",
   "execution_count": 3,
   "metadata": {},
   "outputs": [
    {
     "data": {
      "text/plain": [
       "NaN"
      ]
     },
     "execution_count": 3,
     "metadata": {},
     "output_type": "execute_result"
    }
   ],
   "source": [
    "getobjectivevalue(m)"
   ]
  },
  {
   "cell_type": "code",
   "execution_count": null,
   "metadata": {},
   "outputs": [],
   "source": []
  }
 ],
 "metadata": {
  "kernelspec": {
   "display_name": "Julia 0.6.2",
   "language": "julia",
   "name": "julia-0.6"
  },
  "language_info": {
   "file_extension": ".jl",
   "mimetype": "application/julia",
   "name": "julia",
   "version": "0.6.2"
  }
 },
 "nbformat": 4,
 "nbformat_minor": 2
}
