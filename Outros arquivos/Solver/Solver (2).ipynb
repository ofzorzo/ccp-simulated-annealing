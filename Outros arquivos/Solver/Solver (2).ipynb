{
 "cells": [
  {
   "cell_type": "code",
   "execution_count": 1,
   "metadata": {},
   "outputs": [
    {
     "data": {
      "text/plain": [
       "(240, 12, [9.0, 9.0, 5.0, 4.0, 9.0, 3.0, 8.0, 4.0, 5.0, 1.0  …  9.0, 10.0, 1.0, 3.0, 5.0, 7.0, 2.0, 8.0, 4.0, 3.0], [75.0, 75.0, 75.0, 75.0, 75.0, 75.0, 75.0, 75.0, 75.0, 75.0, 75.0, 75.0], [125.0, 125.0, 125.0, 125.0, 125.0, 125.0, 125.0, 125.0, 125.0, 125.0, 125.0, 125.0], [0.0 8.815 … 8.694 43.067; 0.0 0.0 … 15.886 51.128; … ; 0.0 0.0 … 0.0 15.847; 0.0 0.0 … 0.0 0.0])"
      ]
     },
     "execution_count": 1,
     "metadata": {},
     "output_type": "execute_result"
    }
   ],
   "source": [
    "function createGraphFromFile(filename)\n",
    "\tf = open(filename)\n",
    "\tlines = readlines(f)\n",
    "\tfirstLine = split(lines[1])\n",
    "\tn = parse(Int64, firstLine[1]) #número de vértices\n",
    "\tg = parse(Int64, firstLine[2]) #número de grupos\n",
    "\tsecondLine = split(lines[2])\n",
    "    L = zeros(g) #limite inferior do grupo j\n",
    "    U = zeros(g) #limite superior do grupo j\n",
    "    for j=1:g\n",
    "    \tL[j] = parse(Float64, secondLine[j*2-1])\n",
    "    \tU[j] = parse(Float64, secondLine[j*2])\n",
    "    end\n",
    "    p = zeros(n) #peso do vértice i\n",
    "    thirdLine = split(lines[3])\n",
    "    for i=1:n\n",
    "    \tp[i] = parse(Float64, thirdLine[i])\n",
    "    end\n",
    "    numberOfLines = size(lines)[1]\n",
    "    A = zeros(n,n) #matriz de adjacência em que cada elemento representa o peso da aresta entre o vértice u e v\n",
    "    for lineIndex=4:numberOfLines\n",
    "    \tcurrentLine = split(lines[lineIndex])\n",
    "    \tu = parse(Int64, currentLine[1]) + 1\n",
    "        v = parse(Int64, currentLine[2]) + 1\n",
    "        A[u,v] = parse(Float64, currentLine[3])\n",
    "    end\n",
    "    return n, g, p, L, U, A\n",
    "end\n",
    "\n",
    "n, g, p, L, U, A = createGraphFromFile(\"D:/UFRGS/Quinto Semestre/Otimização Combinatória/Trabalho final/gbmv240_01.ins\")\n",
    "#teste = edges(graph)\n",
    "#teste_zika = teste[4]\n",
    "#print(\"$teste_zika\\n\")\n",
    "#teste_zika2 = A[4]\n",
    "#print(\"$teste_zika2\")\n",
    "#gplot(graph)"
   ]
  },
  {
   "cell_type": "code",
   "execution_count": 2,
   "metadata": {},
   "outputs": [],
   "source": [
    "using JuMP\n",
    "using GLPKMathProgInterface\n",
    "m = Model(solver=GLPKSolverMIP())\n",
    "\n",
    "@variable(m, x[1:n, 1:g], Bin) #g é o número de grupos\n",
    "@variable(m, c[1:n, 1:n, 1:g], Bin) #g é o número de grupos\n",
    "@objective( m, Max, sum( c[i,k,j]*A[i,k] for i in 1:n for k in 1:n for j in 1:g ) )\n",
    "@constraints(m, begin\n",
    "[i in 1:n], sum(x[i,j] for j in 1:g)==1\n",
    "[j in 1:g], L[j]<=sum( x[i,j]*p[i] for i in 1:n )<=U[j]\n",
    "[i in 1:n, k in 1:n, j in 1:g], c[i,k,j]<=(x[i,j]+x[k,j])/2 # isso daqui garante que vou ter tanto c[1,2,j] quanto c[2,1,j], então não preciso me preocupar com qual vértice escolher pra i e qual pra k na função objetivo\n",
    "\n",
    "end)\n",
    "solve(m)"
   ]
  },
  {
   "cell_type": "code",
   "execution_count": null,
   "metadata": {},
   "outputs": [],
   "source": []
  }
 ],
 "metadata": {
  "kernelspec": {
   "display_name": "Julia 0.6.2",
   "language": "julia",
   "name": "julia-0.6"
  },
  "language_info": {
   "file_extension": ".jl",
   "mimetype": "application/julia",
   "name": "julia",
   "version": "0.6.2"
  }
 },
 "nbformat": 4,
 "nbformat_minor": 2
}
