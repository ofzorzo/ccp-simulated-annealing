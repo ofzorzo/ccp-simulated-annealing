{
 "cells": [
  {
   "cell_type": "code",
   "execution_count": 2,
   "metadata": {},
   "outputs": [
    {
     "data": {
      "text/plain": [
       "(4, 2, [1.0, 2.0, 3.0, 4.0], [1.0, 1.0], [10.0, 10.0], [0.0 2.0 0.0 0.0; 0.0 0.0 3.0 0.0; 0.0 0.0 0.0 4.0; 1.0 0.0 0.0 0.0])"
      ]
     },
     "execution_count": 2,
     "metadata": {},
     "output_type": "execute_result"
    }
   ],
   "source": [
    "function createGraphFromFile(filename)\n",
    "\tf = open(filename)\n",
    "\tlines = readlines(f)\n",
    "\tfirstLine = split(lines[1])\n",
    "\tn = parse(Int64, firstLine[1]) #número de vértices\n",
    "\tg = parse(Int64, firstLine[2]) #número de grupos\n",
    "\tsecondLine = split(lines[2])\n",
    "    L = zeros(g) #limite inferior do grupo j\n",
    "    U = zeros(g) #limite superior do grupo j\n",
    "    for j=1:g\n",
    "    \tL[j] = parse(Float64, secondLine[j*2-1])\n",
    "    \tU[j] = parse(Float64, secondLine[j*2])\n",
    "    end\n",
    "    p = zeros(n) #peso do vértice i\n",
    "    thirdLine = split(lines[3])\n",
    "    for i=1:n\n",
    "    \tp[i] = parse(Float64, thirdLine[i])\n",
    "    end\n",
    "    numberOfLines = size(lines)[1]\n",
    "    A = zeros(n,n) #matriz de adjacência em que cada elemento representa o peso da aresta entre o vértice u e v\n",
    "    for lineIndex=4:numberOfLines\n",
    "    \tcurrentLine = split(lines[lineIndex])\n",
    "    \tu = parse(Int64, currentLine[1]) + 1 #vértice de índice u aqui tem índice u-1 na instância\n",
    "        v = parse(Int64, currentLine[2]) + 1\n",
    "        A[u,v] = parse(Float64, currentLine[3])\n",
    "    end\n",
    "    return n, g, p, L, U, A\n",
    "end\n",
    "\n",
    "n, g, p, L, U, A = createGraphFromFile(\"D:/UFRGS/Quinto Semestre/Otimização Combinatória/Trabalho final/instanciaTeste.ins\")"
   ]
  },
  {
   "cell_type": "code",
   "execution_count": 3,
   "metadata": {},
   "outputs": [
    {
     "data": {
      "text/plain": [
       ":Optimal"
      ]
     },
     "execution_count": 3,
     "metadata": {},
     "output_type": "execute_result"
    },
    {
     "name": "stdout",
     "output_type": "stream",
     "text": [
      "GLPK Integer Optimizer, v4.52\r\n",
      "38 rows, 40 columns, 104 non-zeros\r\n",
      "40 integer variables, all of which are binary\r\n",
      "Integer optimization begins...\r\n",
      "+    19: mip =     not found yet <=              +inf        (1; 0)\r\n",
      "+    21: mip =     not found yet <=  1.000000000e+001        (2; 0)\r\n",
      "+    24: mip =     not found yet <=  1.000000000e+001        (2; 0)\r\n",
      "+    26: mip =     not found yet <=  1.000000000e+001        (3; 0)\r\n",
      "+    29: >>>>>  5.000000000e+000 <=  1.000000000e+001 100.0% (3; 0)\r\n",
      "+    29: mip =  5.000000000e+000 <=  1.000000000e+001 100.0% (2; 1)\r\n",
      "+    32: mip =  5.000000000e+000 <=  1.000000000e+001 100.0% (3; 1)\r\n",
      "+    34: mip =  5.000000000e+000 <=  1.000000000e+001 100.0% (4; 1)\r\n",
      "+    38: mip =  5.000000000e+000 <=  9.000000000e+000  80.0% (5; 1)\r\n",
      "+    42: mip =  5.000000000e+000 <=  9.000000000e+000  80.0% (6; 1)\r\n",
      "+    44: mip =  5.000000000e+000 <=  9.000000000e+000  80.0% (7; 1)\r\n",
      "+    44: mip =  5.000000000e+000 <=  9.000000000e+000  80.0% (6; 2)\r\n",
      "+    46: mip =  5.000000000e+000 <=  9.000000000e+000  80.0% (6; 2)\r\n",
      "+    50: mip =  5.000000000e+000 <=  9.000000000e+000  80.0% (5; 3)\r\n",
      "+    53: mip =  5.000000000e+000 <=  8.000000000e+000  60.0% (6; 3)\r\n",
      "+    55: >>>>>  7.000000000e+000 <=  8.000000000e+000  14.3% (6; 3)\r\n",
      "+    55: mip =  7.000000000e+000 <=  8.000000000e+000  14.3% (1; 12)\r\n",
      "+    55: mip =  7.000000000e+000 <=     tree is empty   0.0% (0; 17)\r\n",
      "INTEGER OPTIMAL SOLUTION FOUND\r\n"
     ]
    }
   ],
   "source": [
    "using JuMP\n",
    "using GLPKMathProgInterface\n",
    "m = Model(solver=GLPKSolverMIP(msg_lev=GLPK.MSG_ALL, tm_lim=3600000, out_frq=1))\n",
    "\n",
    "@variable(m, x[1:n, 1:g], Bin) #g é o número de grupos\n",
    "@variable(m, c[1:n, 1:n, 1:g], Bin) #g é o número de grupos\n",
    "@objective( m, Max, sum( c[i,k,j]*A[i,k] for i in 1:n for k in 1:n for j in 1:g ) )\n",
    "@constraints(m, begin\n",
    "[i in 1:n], sum(x[i,j] for j in 1:g)==1\n",
    "[j in 1:g], L[j]<=sum( x[i,j]*p[i] for i in 1:n )<=U[j]\n",
    "[i in 1:n, k in 1:n, j in 1:g], c[i,k,j]<=(x[i,j]+x[k,j])/2 # isso daqui garante que vou ter tanto c[1,2,j] quanto c[2,1,j], então não preciso me preocupar com qual vértice escolher pra i e qual pra k na função objetivo\n",
    "\n",
    "end)\n",
    "solve(m)"
   ]
  },
  {
   "cell_type": "code",
   "execution_count": 4,
   "metadata": {},
   "outputs": [
    {
     "data": {
      "text/plain": [
       "7.0"
      ]
     },
     "execution_count": 4,
     "metadata": {},
     "output_type": "execute_result"
    }
   ],
   "source": [
    "getobjectivevalue(m)"
   ]
  },
  {
   "cell_type": "code",
   "execution_count": 5,
   "metadata": {},
   "outputs": [
    {
     "data": {
      "text/plain": [
       "4×2 Array{Float64,2}:\n",
       " 0.0  1.0\n",
       " 1.0  0.0\n",
       " 1.0  0.0\n",
       " 1.0  0.0"
      ]
     },
     "execution_count": 5,
     "metadata": {},
     "output_type": "execute_result"
    }
   ],
   "source": [
    "getvalue(x)"
   ]
  },
  {
   "cell_type": "code",
   "execution_count": 18,
   "metadata": {},
   "outputs": [
    {
     "data": {
      "text/plain": [
       "(4, 2, [1.0, 2.0, 3.0, 4.0], [0.0, 0.0], [10.0, 10.0], [0.0 2.0 0.0 0.0; 0.0 0.0 3.0 0.0; 0.0 0.0 0.0 4.0; 1.0 0.0 0.0 0.0])"
      ]
     },
     "execution_count": 18,
     "metadata": {},
     "output_type": "execute_result"
    }
   ],
   "source": [
    "function createGraphFromFile(filename)\n",
    "\tf = open(filename)\n",
    "\tlines = readlines(f)\n",
    "\tfirstLine = split(lines[1])\n",
    "\tn = parse(Int64, firstLine[1]) #número de vértices\n",
    "\tg = parse(Int64, firstLine[2]) #número de grupos\n",
    "\tsecondLine = split(lines[2])\n",
    "    L = zeros(g) #limite inferior do grupo j\n",
    "    U = zeros(g) #limite superior do grupo j\n",
    "    for j=1:g\n",
    "    \tL[j] = parse(Float64, secondLine[j*2-1])\n",
    "    \tU[j] = parse(Float64, secondLine[j*2])\n",
    "    end\n",
    "    p = zeros(n) #peso do vértice i\n",
    "    thirdLine = split(lines[3])\n",
    "    for i=1:n\n",
    "    \tp[i] = parse(Float64, thirdLine[i])\n",
    "    end\n",
    "    numberOfLines = size(lines)[1]\n",
    "    A = zeros(n,n) #matriz de adjacência em que cada elemento representa o peso da aresta entre o vértice u e v\n",
    "    for lineIndex=4:numberOfLines\n",
    "    \tcurrentLine = split(lines[lineIndex])\n",
    "    \tu = parse(Int64, currentLine[1]) + 1 #vértice de índice u aqui tem índice u-1 na instância\n",
    "        v = parse(Int64, currentLine[2]) + 1\n",
    "        A[u,v] = parse(Float64, currentLine[3])\n",
    "    end\n",
    "    return n, g, p, L, U, A\n",
    "end\n",
    "\n",
    "n, g, p, L, U, A = createGraphFromFile(\"D:/UFRGS/Quinto Semestre/Otimização Combinatória/Trabalho final/instanciaTeste2.ins\")"
   ]
  },
  {
   "cell_type": "code",
   "execution_count": 19,
   "metadata": {},
   "outputs": [
    {
     "data": {
      "text/plain": [
       ":Optimal"
      ]
     },
     "execution_count": 19,
     "metadata": {},
     "output_type": "execute_result"
    },
    {
     "name": "stdout",
     "output_type": "stream",
     "text": [
      "GLPK Integer Optimizer, v4.52\r\n",
      "38 rows, 40 columns, 104 non-zeros\r\n",
      "40 integer variables, all of which are binary\r\n",
      "Integer optimization begins...\r\n",
      "+    20: mip =     not found yet <=              +inf        (1; 0)\r\n",
      "+    20: >>>>>  1.000000000e+001 <=  1.000000000e+001   0.0% (1; 0)\r\n",
      "+    20: mip =  1.000000000e+001 <=     tree is empty   0.0% (0; 1)\r\n",
      "INTEGER OPTIMAL SOLUTION FOUND\r\n"
     ]
    }
   ],
   "source": [
    "using JuMP\n",
    "using GLPKMathProgInterface\n",
    "m = Model(solver=GLPKSolverMIP(msg_lev=GLPK.MSG_ALL, tm_lim=3600000, out_frq=1))\n",
    "\n",
    "@variable(m, x[1:n, 1:g], Bin) #g é o número de grupos\n",
    "@variable(m, c[1:n, 1:n, 1:g], Bin) #g é o número de grupos\n",
    "@objective( m, Max, sum( c[i,k,j]*A[i,k] for i in 1:n for k in 1:n for j in 1:g ) )\n",
    "@constraints(m, begin\n",
    "[i in 1:n], sum(x[i,j] for j in 1:g)==1\n",
    "[j in 1:g], L[j]<=sum( x[i,j]*p[i] for i in 1:n )<=U[j]\n",
    "[i in 1:n, k in 1:n, j in 1:g], c[i,k,j]<=(x[i,j]+x[k,j])/2 # isso daqui garante que vou ter tanto c[1,2,j] quanto c[2,1,j], então não preciso me preocupar com qual vértice escolher pra i e qual pra k na função objetivo\n",
    "\n",
    "end)\n",
    "solve(m)"
   ]
  },
  {
   "cell_type": "code",
   "execution_count": 20,
   "metadata": {},
   "outputs": [
    {
     "data": {
      "text/plain": [
       "10.0"
      ]
     },
     "execution_count": 20,
     "metadata": {},
     "output_type": "execute_result"
    }
   ],
   "source": [
    "getobjectivevalue(m)"
   ]
  },
  {
   "cell_type": "code",
   "execution_count": 22,
   "metadata": {},
   "outputs": [
    {
     "data": {
      "text/plain": [
       "4×2 Array{Float64,2}:\n",
       " 0.0  1.0\n",
       " 0.0  1.0\n",
       " 0.0  1.0\n",
       " 0.0  1.0"
      ]
     },
     "execution_count": 22,
     "metadata": {},
     "output_type": "execute_result"
    }
   ],
   "source": [
    "getvalue(x)"
   ]
  },
  {
   "cell_type": "markdown",
   "metadata": {},
   "source": [
    "Notar que, como o peso mínimo de um grupo pode ser igual a 0, isso equivale a dizer que não precisamos ter vértice nenhum nele. Perguntar pro Ritt se isso faz sentido."
   ]
  },
  {
   "cell_type": "code",
   "execution_count": 25,
   "metadata": {},
   "outputs": [
    {
     "data": {
      "text/plain": [
       "(4, 2, [1.0, 2.0, 3.0, 4.0], [10.0, 1.0], [10.0, 10.0], [0.0 2.0 0.0 0.0; 0.0 0.0 3.0 0.0; 0.0 0.0 0.0 4.0; 1.0 0.0 0.0 0.0])"
      ]
     },
     "execution_count": 25,
     "metadata": {},
     "output_type": "execute_result"
    }
   ],
   "source": [
    "function createGraphFromFile(filename)\n",
    "\tf = open(filename)\n",
    "\tlines = readlines(f)\n",
    "\tfirstLine = split(lines[1])\n",
    "\tn = parse(Int64, firstLine[1]) #número de vértices\n",
    "\tg = parse(Int64, firstLine[2]) #número de grupos\n",
    "\tsecondLine = split(lines[2])\n",
    "    L = zeros(g) #limite inferior do grupo j\n",
    "    U = zeros(g) #limite superior do grupo j\n",
    "    for j=1:g\n",
    "    \tL[j] = parse(Float64, secondLine[j*2-1])\n",
    "    \tU[j] = parse(Float64, secondLine[j*2])\n",
    "    end\n",
    "    p = zeros(n) #peso do vértice i\n",
    "    thirdLine = split(lines[3])\n",
    "    for i=1:n\n",
    "    \tp[i] = parse(Float64, thirdLine[i])\n",
    "    end\n",
    "    numberOfLines = size(lines)[1]\n",
    "    A = zeros(n,n) #matriz de adjacência em que cada elemento representa o peso da aresta entre o vértice u e v\n",
    "    for lineIndex=4:numberOfLines\n",
    "    \tcurrentLine = split(lines[lineIndex])\n",
    "    \tu = parse(Int64, currentLine[1]) + 1 #vértice de índice u aqui tem índice u-1 na instância\n",
    "        v = parse(Int64, currentLine[2]) + 1\n",
    "        A[u,v] = parse(Float64, currentLine[3])\n",
    "    end\n",
    "    return n, g, p, L, U, A\n",
    "end\n",
    "\n",
    "n, g, p, L, U, A = createGraphFromFile(\"D:/UFRGS/Quinto Semestre/Otimização Combinatória/Trabalho final/instanciaTeste3.ins\")"
   ]
  },
  {
   "cell_type": "code",
   "execution_count": 26,
   "metadata": {},
   "outputs": [
    {
     "name": "stdout",
     "output_type": "stream",
     "text": [
      "GLPK Integer Optimizer, v4.52\r\n",
      "38 rows, 40 columns, 104 non-zeros\r\n",
      "40 integer variables, all of which are binary\r\n",
      "glp_intopt: optimal basis to initial LP relaxation not provided\r\n"
     ]
    },
    {
     "name": "stderr",
     "output_type": "stream",
     "text": [
      "\u001b[1m\u001b[33mWARNING: \u001b[39m\u001b[22m\u001b[33mNot solved to optimality, status: Infeasible\u001b[39m\n",
      "\u001b[1m\u001b[33mWARNING: \u001b[39m\u001b[22m\u001b[33mInfeasibility ray (Farkas proof) not available\u001b[39m\n"
     ]
    },
    {
     "data": {
      "text/plain": [
       ":Infeasible"
      ]
     },
     "execution_count": 26,
     "metadata": {},
     "output_type": "execute_result"
    }
   ],
   "source": [
    "using JuMP\n",
    "using GLPKMathProgInterface\n",
    "m = Model(solver=GLPKSolverMIP(msg_lev=GLPK.MSG_ALL, tm_lim=3600000, out_frq=1))\n",
    "\n",
    "@variable(m, x[1:n, 1:g], Bin) #g é o número de grupos\n",
    "@variable(m, c[1:n, 1:n, 1:g], Bin) #g é o número de grupos\n",
    "@objective( m, Max, sum( c[i,k,j]*A[i,k] for i in 1:n for k in 1:n for j in 1:g ) )\n",
    "@constraints(m, begin\n",
    "[i in 1:n], sum(x[i,j] for j in 1:g)==1\n",
    "[j in 1:g], L[j]<=sum( x[i,j]*p[i] for i in 1:n )<=U[j]\n",
    "[i in 1:n, k in 1:n, j in 1:g], c[i,k,j]<=(x[i,j]+x[k,j])/2 # isso daqui garante que vou ter tanto c[1,2,j] quanto c[2,1,j], então não preciso me preocupar com qual vértice escolher pra i e qual pra k na função objetivo\n",
    "\n",
    "end)\n",
    "solve(m)"
   ]
  },
  {
   "cell_type": "code",
   "execution_count": 27,
   "metadata": {},
   "outputs": [
    {
     "data": {
      "text/plain": [
       "NaN"
      ]
     },
     "execution_count": 27,
     "metadata": {},
     "output_type": "execute_result"
    }
   ],
   "source": [
    "getobjectivevalue(m)"
   ]
  },
  {
   "cell_type": "code",
   "execution_count": 28,
   "metadata": {},
   "outputs": [
    {
     "name": "stderr",
     "output_type": "stream",
     "text": [
      "\u001b[1m\u001b[33mWARNING: \u001b[39m\u001b[22m\u001b[33mVariable value not defined for component of x. Check that the model was properly solved.\u001b[39m\n"
     ]
    },
    {
     "data": {
      "text/plain": [
       "4×2 Array{Float64,2}:\n",
       " NaN  NaN\n",
       " NaN  NaN\n",
       " NaN  NaN\n",
       " NaN  NaN"
      ]
     },
     "execution_count": 28,
     "metadata": {},
     "output_type": "execute_result"
    }
   ],
   "source": [
    "getvalue(x)"
   ]
  },
  {
   "cell_type": "markdown",
   "metadata": {},
   "source": [
    "Problema infactível. Queremos que um grupo tenha peso igual a 10, e outro com peso igual a 1. Contudo, o peso total dos vértices é 10."
   ]
  },
  {
   "cell_type": "code",
   "execution_count": 33,
   "metadata": {},
   "outputs": [
    {
     "data": {
      "text/plain": [
       "(4, 2, [1.0, 2.0, 3.0, 4.0], [1.0, 1.0], [10.0, 10.0], [0.0 15.0 0.0 0.0; 0.0 0.0 16.0 0.0; 0.0 0.0 0.0 17.0; 14.0 0.0 0.0 0.0])"
      ]
     },
     "execution_count": 33,
     "metadata": {},
     "output_type": "execute_result"
    }
   ],
   "source": [
    "function createGraphFromFile(filename)\n",
    "\tf = open(filename)\n",
    "\tlines = readlines(f)\n",
    "\tfirstLine = split(lines[1])\n",
    "\tn = parse(Int64, firstLine[1]) #número de vértices\n",
    "\tg = parse(Int64, firstLine[2]) #número de grupos\n",
    "\tsecondLine = split(lines[2])\n",
    "    L = zeros(g) #limite inferior do grupo j\n",
    "    U = zeros(g) #limite superior do grupo j\n",
    "    for j=1:g\n",
    "    \tL[j] = parse(Float64, secondLine[j*2-1])\n",
    "    \tU[j] = parse(Float64, secondLine[j*2])\n",
    "    end\n",
    "    p = zeros(n) #peso do vértice i\n",
    "    thirdLine = split(lines[3])\n",
    "    for i=1:n\n",
    "    \tp[i] = parse(Float64, thirdLine[i])\n",
    "    end\n",
    "    numberOfLines = size(lines)[1]\n",
    "    A = zeros(n,n) #matriz de adjacência em que cada elemento representa o peso da aresta entre o vértice u e v\n",
    "    for lineIndex=4:numberOfLines\n",
    "    \tcurrentLine = split(lines[lineIndex])\n",
    "    \tu = parse(Int64, currentLine[1]) + 1 #vértice de índice u aqui tem índice u-1 na instância\n",
    "        v = parse(Int64, currentLine[2]) + 1\n",
    "        A[u,v] = parse(Float64, currentLine[3])\n",
    "    end\n",
    "    return n, g, p, L, U, A\n",
    "end\n",
    "\n",
    "n, g, p, L, U, A = createGraphFromFile(\"D:/UFRGS/Quinto Semestre/Otimização Combinatória/Trabalho final/instanciaTeste4.ins\")"
   ]
  },
  {
   "cell_type": "code",
   "execution_count": 34,
   "metadata": {},
   "outputs": [
    {
     "data": {
      "text/plain": [
       ":Optimal"
      ]
     },
     "execution_count": 34,
     "metadata": {},
     "output_type": "execute_result"
    },
    {
     "name": "stdout",
     "output_type": "stream",
     "text": [
      "GLPK Integer Optimizer, v4.52\r\n",
      "38 rows, 40 columns, 104 non-zeros\r\n",
      "40 integer variables, all of which are binary\r\n",
      "Integer optimization begins...\r\n",
      "+    19: mip =     not found yet <=              +inf        (1; 0)\r\n",
      "+    21: mip =     not found yet <=  6.200000000e+001        (2; 0)\r\n",
      "+    27: mip =     not found yet <=  6.200000000e+001        (2; 0)\r\n",
      "+    29: mip =     not found yet <=  6.200000000e+001        (3; 0)\r\n",
      "+    32: >>>>>  2.900000000e+001 <=  6.200000000e+001 113.8% (3; 0)\r\n",
      "+    32: mip =  2.900000000e+001 <=  6.200000000e+001 113.8% (2; 1)\r\n",
      "+    36: mip =  2.900000000e+001 <=  6.200000000e+001 113.8% (3; 1)\r\n",
      "+    38: mip =  2.900000000e+001 <=  6.200000000e+001 113.8% (4; 1)\r\n",
      "+    43: mip =  2.900000000e+001 <=  6.200000000e+001 113.8% (5; 1)\r\n",
      "+    45: mip =  2.900000000e+001 <=  6.200000000e+001 113.8% (5; 1)\r\n",
      "+    46: mip =  2.900000000e+001 <=  6.200000000e+001 113.8% (6; 1)\r\n",
      "+    48: >>>>>  3.300000000e+001 <=  6.200000000e+001  87.9% (6; 1)\r\n",
      "+    48: mip =  3.300000000e+001 <=  6.200000000e+001  87.9% (4; 4)\r\n",
      "+    52: mip =  3.300000000e+001 <=  5.400000000e+001  63.6% (5; 4)\r\n",
      "+    52: mip =  3.300000000e+001 <=  5.400000000e+001  63.6% (4; 5)\r\n",
      "+    56: mip =  3.300000000e+001 <=  4.700000000e+001  42.4% (5; 5)\r\n",
      "+    58: mip =  3.300000000e+001 <=  4.200000000e+001  27.3% (4; 6)\r\n",
      "+    58: mip =  3.300000000e+001 <=  4.000000000e+001  21.2% (3; 8)\r\n",
      "+    58: mip =  3.300000000e+001 <=  3.900000000e+001  18.2% (2; 10)\r\n",
      "+    58: mip =  3.300000000e+001 <=  3.800000000e+001  15.2% (1; 13)\r\n",
      "+    58: mip =  3.300000000e+001 <=     tree is empty   0.0% (0; 17)\r\n",
      "INTEGER OPTIMAL SOLUTION FOUND\r\n"
     ]
    }
   ],
   "source": [
    "using JuMP\n",
    "using GLPKMathProgInterface\n",
    "m = Model(solver=GLPKSolverMIP(msg_lev=GLPK.MSG_ALL, tm_lim=3600000, out_frq=1))\n",
    "\n",
    "@variable(m, x[1:n, 1:g], Bin) #g é o número de grupos\n",
    "@variable(m, c[1:n, 1:n, 1:g], Bin) #g é o número de grupos\n",
    "@objective( m, Max, sum( c[i,k,j]*A[i,k] for i in 1:n for k in 1:n for j in 1:g ) )\n",
    "@constraints(m, begin\n",
    "[i in 1:n], sum(x[i,j] for j in 1:g)==1\n",
    "[j in 1:g], L[j]<=sum( x[i,j]*p[i] for i in 1:n )<=U[j]\n",
    "[i in 1:n, k in 1:n, j in 1:g], c[i,k,j]<=(x[i,j]+x[k,j])/2 # isso daqui garante que vou ter tanto c[1,2,j] quanto c[2,1,j], então não preciso me preocupar com qual vértice escolher pra i e qual pra k na função objetivo\n",
    "\n",
    "end)\n",
    "solve(m)"
   ]
  },
  {
   "cell_type": "code",
   "execution_count": 35,
   "metadata": {},
   "outputs": [
    {
     "data": {
      "text/plain": [
       "33.0"
      ]
     },
     "execution_count": 35,
     "metadata": {},
     "output_type": "execute_result"
    }
   ],
   "source": [
    "getobjectivevalue(m)"
   ]
  },
  {
   "cell_type": "code",
   "execution_count": 36,
   "metadata": {},
   "outputs": [
    {
     "data": {
      "text/plain": [
       "4×2 Array{Float64,2}:\n",
       " 1.0  0.0\n",
       " 0.0  1.0\n",
       " 0.0  1.0\n",
       " 0.0  1.0"
      ]
     },
     "execution_count": 36,
     "metadata": {},
     "output_type": "execute_result"
    }
   ],
   "source": [
    "getvalue(x)"
   ]
  },
  {
   "cell_type": "code",
   "execution_count": 38,
   "metadata": {},
   "outputs": [
    {
     "data": {
      "text/plain": [
       "1.0"
      ]
     },
     "execution_count": 38,
     "metadata": {},
     "output_type": "execute_result"
    }
   ],
   "source": [
    "getvalue(sum( x[i,1]*p[i] for i in 1:n ))"
   ]
  },
  {
   "cell_type": "markdown",
   "metadata": {},
   "source": [
    "Só o vértice 1 está no grupo j=1. Ele tem peso 1. Logo, peso do grupo é 1."
   ]
  },
  {
   "cell_type": "code",
   "execution_count": 39,
   "metadata": {},
   "outputs": [
    {
     "data": {
      "text/plain": [
       "9.0"
      ]
     },
     "execution_count": 39,
     "metadata": {},
     "output_type": "execute_result"
    }
   ],
   "source": [
    "getvalue(sum( x[i,2]*p[i] for i in 1:n ))"
   ]
  },
  {
   "cell_type": "markdown",
   "metadata": {},
   "source": [
    "Os vértices 2, 3 e 4 estão no grupo j=2. A soma de seus pesos é 9. Logo, o peso do grupo é 9."
   ]
  },
  {
   "cell_type": "code",
   "execution_count": null,
   "metadata": {},
   "outputs": [],
   "source": []
  }
 ],
 "metadata": {
  "kernelspec": {
   "display_name": "Julia 0.6.2",
   "language": "julia",
   "name": "julia-0.6"
  },
  "language_info": {
   "file_extension": ".jl",
   "mimetype": "application/julia",
   "name": "julia",
   "version": "0.6.2"
  }
 },
 "nbformat": 4,
 "nbformat_minor": 2
}
